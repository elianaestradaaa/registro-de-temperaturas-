{
  "nbformat": 4,
  "nbformat_minor": 0,
  "metadata": {
    "colab": {
      "provenance": []
    },
    "kernelspec": {
      "name": "python3",
      "display_name": "Python 3"
    },
    "language_info": {
      "name": "python"
    }
  },
  "cells": [
    {
      "cell_type": "code",
      "execution_count": 4,
      "metadata": {
        "colab": {
          "base_uri": "https://localhost:8080/"
        },
        "id": "MR1CRYx_hALv",
        "outputId": "4228b34c-2e43-48f4-ade9-3c073627a089"
      },
      "outputs": [
        {
          "output_type": "stream",
          "name": "stdout",
          "text": [
            "Matriz de temperaturas 3D:\n",
            "[[[24, 26, 23, 34, 16, 32, 23], [15, 35, 25, 27, 24, 22, 27]], [[16, 34, 21, 18, 30, 28, 30], [15, 33, 16, 35, 24, 22, 28]], [[29, 19, 32, 20, 31, 32, 19], [25, 24, 27, 20, 35, 18, 27]]]\n",
            "\n",
            "Promedio de temperaturas por ciudad y semana:\n",
            "Quito - Semana 1: 25.43°C\n",
            "Quito - Semana 2: 25.00°C\n",
            "Guayaquil - Semana 1: 25.29°C\n",
            "Guayaquil - Semana 2: 24.71°C\n",
            "Cuenca - Semana 1: 26.00°C\n",
            "Cuenca - Semana 2: 25.14°C\n",
            "\n",
            "Archivo 'promedios_temperaturas.csv' creado con éxito.\n"
          ]
        }
      ],
      "source": [
        "# Lista de ciudades\n",
        "ciudades = [\"Quito\", \"Guayaquil\", \"Cuenca\"]\n",
        "\n",
        "# Número de semanas y días\n",
        "semanas = 2   # por ejemplo, 2 semanas\n",
        "dias = 7      # Lunes a Domingo\n",
        "\n",
        "# Crear matriz 3D con temperaturas ficticias\n",
        "# Estructura: temperaturas[ciudad][semana][día]\n",
        "temperaturas = []\n",
        "\n",
        "import random  # Para generar números aleatorios de temperatura\n",
        "\n",
        "for ciudad in ciudades:\n",
        "    ciudad_semanas = []\n",
        "    for semana in range(semanas):\n",
        "        semana_dias = []\n",
        "        for dia in range(dias):\n",
        "            temp = random.randint(15, 35)  # Temperaturas entre 15 y 35°C\n",
        "            semana_dias.append(temp)\n",
        "        ciudad_semanas.append(semana_dias)\n",
        "    temperaturas.append(ciudad_semanas)\n",
        "\n",
        "# Mostrar la matriz completa\n",
        "print(\"Matriz de temperaturas 3D:\")\n",
        "print(temperaturas)\n",
        "print(\"\\nPromedio de temperaturas por ciudad y semana:\")\n",
        "\n",
        "for i, ciudad in enumerate(ciudades):\n",
        "    for j in range(semanas):\n",
        "        promedio = sum(temperaturas[i][j]) / dias\n",
        "        print(f\"{ciudad} - Semana {j+1}: {promedio:.2f}°C\")\n",
        "\n",
        "\n",
        "        import csv\n",
        "\n",
        "with open(\"promedios_temperaturas.csv\", \"w\", newline=\"\") as archivo:\n",
        "    writer = csv.writer(archivo)\n",
        "    writer.writerow([\"Ciudad\", \"Semana\", \"Promedio\"])\n",
        "    for i, ciudad in enumerate(ciudades):\n",
        "        for j in range(semanas):\n",
        "            promedio = sum(temperaturas[i][j]) / dias\n",
        "            writer.writerow([ciudad, j+1, promedio])\n",
        "\n",
        "print(\"\\nArchivo 'promedios_temperaturas.csv' creado con éxito.\")"
      ]
    }
  ]
}